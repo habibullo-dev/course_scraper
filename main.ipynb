{
 "cells": [
  {
   "cell_type": "code",
   "execution_count": 1,
   "metadata": {},
   "outputs": [],
   "source": [
    "import pandas as pd\n",
    "from time import sleep\n",
    "from bs4 import BeautifulSoup\n",
    "from selenium import webdriver\n",
    "from selenium.webdriver.chrome.options import Options\n"
   ]
  },
  {
   "cell_type": "code",
   "execution_count": 2,
   "metadata": {},
   "outputs": [
    {
     "name": "stdout",
     "output_type": "stream",
     "text": [
      "1\n",
      "2\n",
      "3\n",
      "4\n",
      "5\n",
      "6\n",
      "7\n",
      "8\n",
      "9\n"
     ]
    }
   ],
   "source": [
    "options = Options()\n",
    "options.headless = True\n",
    "driver = webdriver.Chrome(options=options)\n",
    "\n",
    "course_names = []\n",
    "course_price = []\n",
    "course_link = []\n",
    "course_rating = []\n",
    "course_methods = []\n",
    "course_description = []\n",
    "\n",
    "\n",
    "for i in range(1, 10):\n",
    "    ROOT_URL = (f\"https://www.springest.nl/abonnementen/onbeperkt/{i}\")\n",
    "    driver.get(ROOT_URL)\n",
    "    sleep(3)\n",
    "    print(i)\n",
    "    soup = BeautifulSoup(driver.page_source, \"html.parser\")\n",
    "    h2_tags = soup.find_all(\"h2\", class_=\"as-h3 product-item__title\")\n",
    "    list1 = [title.text for title in h2_tags]\n",
    "    list2 = [f'https://www.springest.nl/{title.a[\"href\"]}' for title in h2_tags]\n",
    "    price_tags = soup.find_all(\"span\", class_=\"price\")\n",
    "    list3 = [price.text[:-5] for price in price_tags]\n",
    "    raw_score = soup.find_all(\"span\", class_=\"institute-rating rating-score\")\n",
    "    list4 = [score.text for score in raw_score]\n",
    "    method_raw = soup.find_all(\"span\",  class_=\"method\")\n",
    "    list5 = [method.text for method in method_raw]\n",
    "    data_divs = soup.find_all(\"div\", class_=\"product-item__description\")\n",
    "    list6 = [data.p.text for data in data_divs]\n",
    "    course_names.extend(list1)\n",
    "    course_price.extend(list3)\n",
    "    course_link.extend(list2)\n",
    "    course_rating.extend(list4)\n",
    "    course_methods.extend(list5)\n",
    "    course_description.extend(list6)\n",
    "    sleep(2)"
   ]
  },
  {
   "cell_type": "code",
   "execution_count": 3,
   "metadata": {},
   "outputs": [],
   "source": [
    "data_object = {\n",
    "    \"Course title\": course_names,\n",
    "    \"Course price\": course_price,\n",
    "    \"Course rating\": course_rating,\n",
    "    \"Course method\": course_methods,\n",
    "    \"Brief description\": course_description,\n",
    "    \"Course link\": course_link\n",
    "}\n",
    "df = pd.DataFrame(data_object)\n",
    "df.to_csv(\"result_jupyter.csv\")"
   ]
  }
 ],
 "metadata": {
  "kernelspec": {
   "display_name": "Python 3.9.12 ('base')",
   "language": "python",
   "name": "python3"
  },
  "language_info": {
   "codemirror_mode": {
    "name": "ipython",
    "version": 3
   },
   "file_extension": ".py",
   "mimetype": "text/x-python",
   "name": "python",
   "nbconvert_exporter": "python",
   "pygments_lexer": "ipython3",
   "version": "3.9.12"
  },
  "orig_nbformat": 4,
  "vscode": {
   "interpreter": {
    "hash": "28707a05ef5de89aff01fed74661bb5c1eb450bee07877d9ab28ba975cab0e45"
   }
  }
 },
 "nbformat": 4,
 "nbformat_minor": 2
}
